{
 "cells": [
  {
   "cell_type": "code",
   "execution_count": 3,
   "metadata": {},
   "outputs": [
    {
     "name": "stdout",
     "output_type": "stream",
     "text": [
      "The autoreload extension is already loaded. To reload it, use:\n",
      "  %reload_ext autoreload\n"
     ]
    }
   ],
   "source": [
    "from oceanmixedlayers import oceanmixedlayers\n",
    "%load_ext autoreload\n",
    "%autoreload 2\n"
   ]
  },
  {
   "cell_type": "markdown",
   "metadata": {},
   "source": [
    "# Test profile 1\n",
    "\n",
    "The first test uses a linear profile of temperature, decreasing from 20 deg C to 19 deg C over 100m depth.  "
   ]
  },
  {
   "cell_type": "code",
   "execution_count": 15,
   "metadata": {},
   "outputs": [
    {
     "data": {
      "image/png": "[encoded data removed]",
      "text/plain": [
       "<Figure size 360x432 with 4 Axes>"
      ]
     },
     "metadata": {
      "needs_background": "light"
     },
     "output_type": "display_data"
    }
   ],
   "source": [
    "A=oceanmixedlayers.column(kind='Argo',\n",
    "                          ArgoPath='/net3/bgr/Datasets/Argo/202011-ArgoData/dac/aoml/',\n",
    "                         ArgoID=3900660\n",
    "                         )\n",
    "A.plot_state();\n"
   ]
  },
  {
   "cell_type": "code",
   "execution_count": 16,
   "metadata": {},
   "outputs": [
    {
     "name": "stdout",
     "output_type": "stream",
     "text": [
      "(array([62.28435503]), array([9]))\n"
     ]
    }
   ],
   "source": [
    "print(A.threshold())\n",
    "\n",
    "#Expected answer: (array([62.28435503]), array([9]))\n"
   ]
  },
  {
   "cell_type": "code",
   "execution_count": 17,
   "metadata": {},
   "outputs": [
    {
     "name": "stdout",
     "output_type": "stream",
     "text": [
      "(array([7.39941589]), array([1]))\n"
     ]
    }
   ],
   "source": [
    "\n",
    "print(A.gradient())\n",
    "\n",
    "#Expected answer: (array([7.39941589]), array([1]))"
   ]
  },
  {
   "cell_type": "code",
   "execution_count": 18,
   "metadata": {},
   "outputs": [
    {
     "name": "stdout",
     "output_type": "stream",
     "text": [
      "(array([86.64067142]), array([12]))\n"
     ]
    }
   ],
   "source": [
    "print(A.linearfit())\n",
    "#Expected answer: (array([86.64067142]), array([12]))"
   ]
  },
  {
   "cell_type": "code",
   "execution_count": 19,
   "metadata": {},
   "outputs": [
    {
     "name": "stdout",
     "output_type": "stream",
     "text": [
      "A:  [62.56534527]\n"
     ]
    }
   ],
   "source": [
    "OUT = A.holtetalley()\n",
    "print('A: ',OUT[2])\n",
    "\n",
    "#Expected answer: \n",
    "# A:  [62.56534527]\n",
    "\n",
    "# Note units are dBar!"
   ]
  },
  {
   "cell_type": "code",
   "execution_count": 20,
   "metadata": {},
   "outputs": [
    {
     "name": "stdout",
     "output_type": "stream",
     "text": [
      "A:  [33.91029853]\n"
     ]
    }
   ],
   "source": [
    "print('A: ',A.mld_pe_anomaly())\n",
    "\n",
    "#Expected answer: \n",
    "# A:  [33.85843897]\n",
    "\n",
    "# Note units are m!"
   ]
  },
  {
   "cell_type": "code",
   "execution_count": 23,
   "metadata": {},
   "outputs": [
    {
     "name": "stdout",
     "output_type": "stream",
     "text": [
      "A:  [31.18526803]\n"
     ]
    }
   ],
   "source": [
    "\n",
    "print('A: ',A.mld_delta_pe())\n",
    "\n",
    "# Expected answer: \n",
    "# A:  [31.18526803]\n",
    "# Note units are m!"
   ]
  },
  {
   "cell_type": "code",
   "execution_count": null,
   "metadata": {},
   "outputs": [],
   "source": []
  }
 ],
 "metadata": {
  "kernelspec": {
   "display_name": "oml",
   "language": "python",
   "name": "oml"
  },
  "language_info": {
   "codemirror_mode": {
    "name": "ipython",
    "version": 3
   },
   "file_extension": ".py",
   "mimetype": "text/x-python",
   "name": "python",
   "nbconvert_exporter": "python",
   "pygments_lexer": "ipython3",
   "version": "3.9.6"
  }
 },
 "nbformat": 4,
 "nbformat_minor": 4
}
